{
 "cells": [
  {
   "cell_type": "code",
   "execution_count": 1,
   "metadata": {
    "collapsed": false
   },
   "outputs": [
    {
     "name": "stderr",
     "output_type": "stream",
     "text": [
      "Using Theano backend.\n"
     ]
    }
   ],
   "source": [
    "import utils; reload(utils)\n",
    "%matplotlib inline"
   ]
  },
  {
   "cell_type": "code",
   "execution_count": 17,
   "metadata": {
    "collapsed": false
   },
   "outputs": [],
   "source": [
    "import vgg16bn; reload(vgg16bn)\n",
    "from vgg16bn import Vgg16BN\n",
    "import os"
   ]
  },
  {
   "cell_type": "code",
   "execution_count": 37,
   "metadata": {
    "collapsed": false,
    "scrolled": true
   },
   "outputs": [],
   "source": [
    "PATH = os.path.realpath(\"/home/ubuntu/deeplearningcourse/water/wetdry1/\")\n",
    "ptrain = os.path.join(PATH,\"train/\")\n",
    "pvalid = os.path.join(PATH,\"valid/\")"
   ]
  },
  {
   "cell_type": "code",
   "execution_count": 7,
   "metadata": {
    "collapsed": false
   },
   "outputs": [],
   "source": [
    "vgg = Vgg16BN()"
   ]
  },
  {
   "cell_type": "code",
   "execution_count": 42,
   "metadata": {
    "collapsed": false
   },
   "outputs": [],
   "source": [
    "#os.getcwd()\n",
    "#os.path.isdir(pvalid)\n",
    "#print PATH"
   ]
  },
  {
   "cell_type": "code",
   "execution_count": 40,
   "metadata": {
    "collapsed": false
   },
   "outputs": [
    {
     "name": "stdout",
     "output_type": "stream",
     "text": [
      "Found 128 images belonging to 2 classes.\n",
      "Found 40 images belonging to 2 classes.\n"
     ]
    }
   ],
   "source": [
    "train_batch = vgg.get_batches(ptrain)\n",
    "valid_batch = vgg.get_batches(pvalid)"
   ]
  },
  {
   "cell_type": "code",
   "execution_count": 45,
   "metadata": {
    "collapsed": false
   },
   "outputs": [],
   "source": [
    "vgg.finetune(train_batch)"
   ]
  },
  {
   "cell_type": "code",
   "execution_count": 46,
   "metadata": {
    "collapsed": false
   },
   "outputs": [
    {
     "name": "stdout",
     "output_type": "stream",
     "text": [
      "Epoch 1/1\n",
      "128/128 [==============================] - 55s - loss: 1.5405 - acc: 0.5547 - val_loss: 0.7173 - val_acc: 0.8250\n"
     ]
    }
   ],
   "source": [
    "vgg.fit(train_batch, valid_batch)"
   ]
  },
  {
   "cell_type": "code",
   "execution_count": 47,
   "metadata": {
    "collapsed": false
   },
   "outputs": [
    {
     "name": "stdout",
     "output_type": "stream",
     "text": [
      "Epoch 1/10\n",
      "128/128 [==============================] - 55s - loss: 1.1443 - acc: 0.7109 - val_loss: 0.5490 - val_acc: 0.7750\n",
      "Epoch 2/10\n",
      "128/128 [==============================] - 50s - loss: 0.9192 - acc: 0.7344 - val_loss: 0.6274 - val_acc: 0.8250\n",
      "Epoch 3/10\n",
      "128/128 [==============================] - 50s - loss: 0.6126 - acc: 0.8594 - val_loss: 0.6975 - val_acc: 0.7750\n",
      "Epoch 4/10\n",
      "128/128 [==============================] - 50s - loss: 0.6935 - acc: 0.8125 - val_loss: 0.7488 - val_acc: 0.8000\n",
      "Epoch 5/10\n",
      "128/128 [==============================] - 51s - loss: 0.5603 - acc: 0.8906 - val_loss: 0.7052 - val_acc: 0.8250\n",
      "Epoch 6/10\n",
      "128/128 [==============================] - 50s - loss: 0.3507 - acc: 0.9141 - val_loss: 0.9536 - val_acc: 0.7500\n",
      "Epoch 7/10\n",
      "128/128 [==============================] - 50s - loss: 0.4422 - acc: 0.8906 - val_loss: 0.8341 - val_acc: 0.7250\n",
      "Epoch 8/10\n",
      "128/128 [==============================] - 51s - loss: 0.2619 - acc: 0.9141 - val_loss: 1.0545 - val_acc: 0.7750\n",
      "Epoch 9/10\n",
      "128/128 [==============================] - 50s - loss: 0.6358 - acc: 0.8672 - val_loss: 0.5497 - val_acc: 0.8250\n",
      "Epoch 10/10\n",
      "128/128 [==============================] - 50s - loss: 0.3386 - acc: 0.9453 - val_loss: 0.6413 - val_acc: 0.8250\n"
     ]
    }
   ],
   "source": [
    "vgg.fit(train_batch, valid_batch, nb_epoch=10)"
   ]
  },
  {
   "cell_type": "code",
   "execution_count": null,
   "metadata": {
    "collapsed": true
   },
   "outputs": [],
   "source": []
  }
 ],
 "metadata": {
  "anaconda-cloud": {},
  "kernelspec": {
   "display_name": "Python [conda root]",
   "language": "python",
   "name": "conda-root-py"
  },
  "language_info": {
   "codemirror_mode": {
    "name": "ipython",
    "version": 2
   },
   "file_extension": ".py",
   "mimetype": "text/x-python",
   "name": "python",
   "nbconvert_exporter": "python",
   "pygments_lexer": "ipython2",
   "version": "2.7.12"
  }
 },
 "nbformat": 4,
 "nbformat_minor": 1
}
