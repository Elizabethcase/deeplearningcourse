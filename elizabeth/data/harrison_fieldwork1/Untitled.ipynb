{
 "cells": [
  {
   "cell_type": "code",
   "execution_count": 51,
   "metadata": {},
   "outputs": [],
   "source": [
    "import os\n",
    "import sys\n",
    "import random\n",
    "\n",
    "import numpy as np\n",
    "import tensorflow as tf\n",
    "\n",
    "import xml.etree.ElementTree as ET"
   ]
  },
  {
   "cell_type": "code",
   "execution_count": 53,
   "metadata": {},
   "outputs": [
    {
     "name": "stdout",
     "output_type": "stream",
     "text": [
      "/home/ubuntu/git/SSD-Tensorflow\r\n"
     ]
    }
   ],
   "source": [
    "os.chdir('../../../SSD-Tensorflow/')\n",
    "!pwd"
   ]
  },
  {
   "cell_type": "code",
   "execution_count": 88,
   "metadata": {},
   "outputs": [
    {
     "ename": "NameError",
     "evalue": "name 'datasets' is not defined",
     "output_type": "error",
     "traceback": [
      "\u001b[0;31m------------------------------------------\u001b[0m",
      "\u001b[0;31mNameError\u001b[0mTraceback (most recent call last)",
      "\u001b[0;32m<ipython-input-88-0f8d09d5ab13>\u001b[0m in \u001b[0;36m<module>\u001b[0;34m()\u001b[0m\n\u001b[1;32m      2\u001b[0m \u001b[0;34m\u001b[0m\u001b[0m\n\u001b[1;32m      3\u001b[0m \u001b[0;32mfrom\u001b[0m \u001b[0mdatasets\u001b[0m\u001b[0;34m.\u001b[0m\u001b[0mCUSTOM_common\u001b[0m \u001b[0;32mimport\u001b[0m \u001b[0mCLASS_LABELS\u001b[0m\u001b[0;34m\u001b[0m\u001b[0m\n\u001b[0;32m----> 4\u001b[0;31m \u001b[0mreload\u001b[0m\u001b[0;34m(\u001b[0m\u001b[0mdatasets\u001b[0m\u001b[0;34m.\u001b[0m\u001b[0mCUSTOM_common\u001b[0m\u001b[0;34m)\u001b[0m\u001b[0;34m\u001b[0m\u001b[0m\n\u001b[0m\u001b[1;32m      5\u001b[0m \u001b[0;32mfrom\u001b[0m \u001b[0mdatasets\u001b[0m\u001b[0;34m.\u001b[0m\u001b[0mCUSTOM_common\u001b[0m \u001b[0;32mimport\u001b[0m \u001b[0mCLASS_LABELS\u001b[0m\u001b[0;34m\u001b[0m\u001b[0m\n\u001b[1;32m      6\u001b[0m \u001b[0;32mfrom\u001b[0m \u001b[0mdatasets\u001b[0m\u001b[0;34m.\u001b[0m\u001b[0mdataset_utils\u001b[0m \u001b[0;32mimport\u001b[0m \u001b[0mint64_feature\u001b[0m\u001b[0;34m,\u001b[0m \u001b[0mfloat_feature\u001b[0m\u001b[0;34m,\u001b[0m \u001b[0mbytes_feature\u001b[0m\u001b[0;34m\u001b[0m\u001b[0m\n",
      "\u001b[0;31mNameError\u001b[0m: name 'datasets' is not defined"
     ]
    }
   ],
   "source": [
    "from imp import reload\n",
    "\n",
    "from datasets.CUSTOM_common import CLASS_LABELS\n",
    "\n",
    "from datasets.dataset_utils import int64_feature, float_feature, bytes_feature"
   ]
  },
  {
   "cell_type": "code",
   "execution_count": 90,
   "metadata": {},
   "outputs": [],
   "source": [
    "CLASS_LABELS = {\n",
    "    'none': (0, 'Background'),\n",
    "    'flower pot': (1, 'Container'),\n",
    "    'container': (2, 'Container'),\n",
    "    'porch': (3, 'Cover'),\n",
    "    'toy': (4, 'Toy'),\n",
    "    'bucket': (5, 'Container'),\n",
    "    'basketball': (6, 'Toy'),\n",
    "    'car': (7, 'Vehicle'),\n",
    "    'tarp': (8, 'Cover'),\n",
    "    'gutter': (9, 'Container'),\n",
    "    'albo property': (10, 'Presence'),\n",
    "    'no albo property': (11, 'Presence'),\n",
    "    'trash bin': (12, 'Container'),\n",
    "    'pot': (13, 'Container')\n",
    "}"
   ]
  },
  {
   "cell_type": "code",
   "execution_count": 91,
   "metadata": {},
   "outputs": [],
   "source": [
    "directory = '/home/ubuntu/git/deeplearning/elizabeth/data/harrison_wks1_2/annotations_wks1_2/'\n",
    "\n",
    "count = {key:0 for key in CLASS_LABELS.keys()}\n",
    "new = {}"
   ]
  },
  {
   "cell_type": "code",
   "execution_count": 18,
   "metadata": {},
   "outputs": [
    {
     "data": {
      "text/plain": [
       "{'basketball': 0,\n",
       " 'bucket': 0,\n",
       " 'car': 0,\n",
       " 'container': 0,\n",
       " 'grate': 0,\n",
       " 'gutter': 0,\n",
       " 'larve property': 0,\n",
       " 'no larvae property': 0,\n",
       " 'none': 0,\n",
       " 'porch': 0,\n",
       " 'potted plant': 0,\n",
       " 'toy': 0,\n",
       " 'trash bin': 0}"
      ]
     },
     "execution_count": 18,
     "metadata": {},
     "output_type": "execute_result"
    }
   ],
   "source": [
    "count"
   ]
  },
  {
   "cell_type": "code",
   "execution_count": 21,
   "metadata": {},
   "outputs": [],
   "source": [
    "def get_counts_of_classes(directory):\n",
    "\n",
    "    ''' This gets the counts of all the classes in a batch of xml files.\n",
    "        Directory = directory where annotations (.xml) files are stored\n",
    "    '''\n",
    "\n",
    "# open directory\n",
    "\n",
    "    for r, dirs, files in os.walk(directory):\n",
    "        for f in files:\n",
    "            # Read the XML annotation file.\n",
    "            tree = ET.parse(f)\n",
    "            root = tree.getroot()\n",
    "            \n",
    "            for obj in root.findall('object'):\n",
    "                label = obj.find('name').text\n",
    "                \n",
    "                if label in CLASS_LABELS.keys():\n",
    "                    count[label] += 1\n",
    "\n",
    "    return count"
   ]
  },
  {
   "cell_type": "code",
   "execution_count": 70,
   "metadata": {},
   "outputs": [
    {
     "name": "stdout",
     "output_type": "stream",
     "text": [
      "/home/ubuntu/git/deeplearningcourse/elizabeth/data/harrison_fieldwork1/annotations_wks1_2\r\n"
     ]
    }
   ],
   "source": [
    "\n",
    "os.chdir('../deeplearningcourse/elizabeth/data/harrison_fieldwork1/annotations_wks1_2/')\n",
    "#!cd '/home/ubuntu/git/aerial/mavic_merged_weeks23/annotations/')\n",
    "!pwd"
   ]
  },
  {
   "cell_type": "code",
   "execution_count": 92,
   "metadata": {},
   "outputs": [],
   "source": [
    "#!cd '/home/ubuntu/git/deeplearningcourse/elizabeth/data/harrison_fieldwork1/annotations_wks1_2/'\n",
    "\n",
    "count = {key:[0,0] for key in CLASS_LABELS.keys()} \n",
    "#first number is the number of times it appears total, second is the number of pictures it appears in\n",
    "new = {}\n",
    "\n",
    "for r, dirs, files in os.walk('./'):\n",
    "    for f in files:\n",
    "        # Read the XML annotation file.\n",
    "        tree = ET.parse(f)\n",
    "        root = tree.getroot()\n",
    "        labels_in_picture = []\n",
    "        \n",
    "        for obj in root.findall('object'):\n",
    "            label = obj.find('name').text\n",
    "        \n",
    "            if label in CLASS_LABELS.keys():\n",
    "                count[label][0] += 1\n",
    "                if label not in labels_in_picture:\n",
    "                    labels_in_picture.append(label)\n",
    "                \n",
    "            elif label == 'garbage bin':\n",
    "                count['trash bin'][0] +=1\n",
    "                if label not in labels_in_picture:\n",
    "                    labels_in_picture.append('trash bin')\n",
    "            else:\n",
    "                if label not in new:\n",
    "                    new[label] = 1\n",
    "                else:\n",
    "                    new[label] += 1\n",
    "        for l in labels_in_picture:\n",
    "            count[l][1] +=1\n",
    "                "
   ]
  },
  {
   "cell_type": "code",
   "execution_count": 93,
   "metadata": {},
   "outputs": [
    {
     "data": {
      "text/plain": [
       "{'albo property': [0, 0],\n",
       " 'basketball': [11, 11],\n",
       " 'bucket': [11, 7],\n",
       " 'car': [120, 109],\n",
       " 'container': [383, 226],\n",
       " 'flower pot': [121, 65],\n",
       " 'gutter': [19, 14],\n",
       " 'no albo property': [0, 0],\n",
       " 'none': [0, 0],\n",
       " 'porch': [50, 50],\n",
       " 'pot': [24, 18],\n",
       " 'tarp': [14, 9],\n",
       " 'toy': [51, 38],\n",
       " 'trash bin': [74, 49]}"
      ]
     },
     "execution_count": 93,
     "metadata": {},
     "output_type": "execute_result"
    }
   ],
   "source": [
    "count"
   ]
  },
  {
   "cell_type": "code",
   "execution_count": 49,
   "metadata": {},
   "outputs": [
    {
     "data": {
      "text/plain": [
       "{'albo larvae': 12,\n",
       " 'albo property': 13,\n",
       " 'albo_larvae': 2,\n",
       " 'bird bath': 3,\n",
       " 'boat': 1,\n",
       " 'closed': 13,\n",
       " 'clutter': 3,\n",
       " 'container_water': 1,\n",
       " 'containr': 1,\n",
       " 'cover': 9,\n",
       " 'coverage': 1,\n",
       " 'covered': 1,\n",
       " 'cup': 1,\n",
       " 'flower pot': 39,\n",
       " 'flower pot - no base': 1,\n",
       " 'flower pot - no water': 6,\n",
       " 'guttter': 1,\n",
       " 'japon_larvae': 1,\n",
       " 'kayak': 4,\n",
       " 'ladder': 3,\n",
       " 'larvae': 1,\n",
       " 'low albo property': 1,\n",
       " 'manhole': 1,\n",
       " 'no albo property': 11,\n",
       " 'no larvae': 3,\n",
       " 'planter': 1,\n",
       " 'pot': 4,\n",
       " 'recycling': 1,\n",
       " 'recycling bin': 2,\n",
       " 'tarp': 8,\n",
       " \"toy'\": 2,\n",
       " 'trampoline': 1,\n",
       " 'trash': 5,\n",
       " 'watering can': 6,\n",
       " 'wheelbarrow': 1}"
      ]
     },
     "execution_count": 49,
     "metadata": {},
     "output_type": "execute_result"
    }
   ],
   "source": [
    "new"
   ]
  },
  {
   "cell_type": "code",
   "execution_count": 38,
   "metadata": {},
   "outputs": [
    {
     "data": {
      "text/plain": [
       "{'basketball': (6, 'Toy'),\n",
       " 'bucket': (5, 'Container'),\n",
       " 'car': (7, 'Vehicle'),\n",
       " 'container': (2, 'Container'),\n",
       " 'grate': (8, 'Container'),\n",
       " 'gutter': (9, 'Container'),\n",
       " 'larve property': (10, 'Presence'),\n",
       " 'no larvae property': (11, 'Presence'),\n",
       " 'none': (0, 'Background'),\n",
       " 'porch': (3, 'Cover'),\n",
       " 'potted plant': (1, 'Container'),\n",
       " 'toy': (4, 'Toy'),\n",
       " 'trash bin': (12, 'Container')}"
      ]
     },
     "execution_count": 38,
     "metadata": {},
     "output_type": "execute_result"
    }
   ],
   "source": [
    "CLASS_LABELS\n"
   ]
  },
  {
   "cell_type": "code",
   "execution_count": null,
   "metadata": {
    "collapsed": true
   },
   "outputs": [],
   "source": []
  }
 ],
 "metadata": {
  "kernelspec": {
   "display_name": "Python 3",
   "language": "python",
   "name": "python3"
  },
  "language_info": {
   "codemirror_mode": {
    "name": "ipython",
    "version": 3
   },
   "file_extension": ".py",
   "mimetype": "text/x-python",
   "name": "python",
   "nbconvert_exporter": "python",
   "pygments_lexer": "ipython3",
   "version": "3.6.1"
  }
 },
 "nbformat": 4,
 "nbformat_minor": 2
}
